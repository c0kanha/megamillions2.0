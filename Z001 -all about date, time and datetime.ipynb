{
 "cells": [
  {
   "cell_type": "code",
   "execution_count": 1,
   "metadata": {},
   "outputs": [
    {
     "name": "stdout",
     "output_type": "stream",
     "text": [
      "MAXYEAR\n",
      "MINYEAR\n",
      "__builtins__\n",
      "__cached__\n",
      "__doc__\n",
      "__file__\n",
      "__loader__\n",
      "__name__\n",
      "__package__\n",
      "__spec__\n",
      "date\n",
      "datetime\n",
      "datetime_CAPI\n",
      "time\n",
      "timedelta\n",
      "timezone\n",
      "tzinfo\n"
     ]
    }
   ],
   "source": [
    "import datetime\n",
    "\n",
    "for thing in dir(datetime):\n",
    "    print(thing)\n"
   ]
  },
  {
   "cell_type": "code",
   "execution_count": 2,
   "metadata": {},
   "outputs": [
    {
     "name": "stdout",
     "output_type": "stream",
     "text": [
      "0001-01-01\n",
      "9999-12-31\n"
     ]
    }
   ],
   "source": [
    "print (datetime.date(1, 1, 1))\n",
    "print (datetime.date(9999, 12, 31))"
   ]
  },
  {
   "cell_type": "code",
   "execution_count": 3,
   "metadata": {},
   "outputs": [],
   "source": [
    "gvr = datetime.date(1956, 1, 31)"
   ]
  },
  {
   "cell_type": "code",
   "execution_count": 4,
   "metadata": {},
   "outputs": [
    {
     "name": "stdout",
     "output_type": "stream",
     "text": [
      "1956-01-31\n",
      "1956\n",
      "1\n",
      "31\n"
     ]
    }
   ],
   "source": [
    "print(gvr)\n",
    "print(gvr.year)\n",
    "print(gvr.month)\n",
    "print(gvr.day)"
   ]
  },
  {
   "cell_type": "code",
   "execution_count": 5,
   "metadata": {},
   "outputs": [
    {
     "name": "stdout",
     "output_type": "stream",
     "text": [
      "2000-04-10\n"
     ]
    }
   ],
   "source": [
    "mill = datetime.date(2000, 1, 1)\n",
    "\n",
    "positive_hundred_days = datetime.timedelta(100)\n",
    "\n",
    "print(mill + positive_hundred_days)"
   ]
  },
  {
   "cell_type": "code",
   "execution_count": 6,
   "metadata": {},
   "outputs": [
    {
     "name": "stdout",
     "output_type": "stream",
     "text": [
      "2017-03-30\n",
      "22:27:00\n",
      "2017-03-30 22:27:00\n",
      "2019-07-25 19:45:23.495449\n"
     ]
    }
   ],
   "source": [
    "launch_date = datetime.date(2017, 3, 30)\n",
    "launch_time = datetime.time(22, 27, 0)\n",
    "launch_datetime = datetime.datetime(2017, 3, 30, 22, 27, 0)\n",
    "\n",
    "print(launch_date)\n",
    "print(launch_time)\n",
    "print(launch_datetime)\n",
    "\n",
    "#Module Name = datetime, class name = datetime, method = today()\n",
    "now = datetime.datetime.today()\n",
    "\n",
    "print(now)"
   ]
  },
  {
   "cell_type": "code",
   "execution_count": 7,
   "metadata": {},
   "outputs": [
    {
     "name": "stdout",
     "output_type": "stream",
     "text": [
      "2019\n",
      "7\n",
      "25\n",
      "19\n",
      "45\n",
      "23\n",
      "495449\n",
      "2019-07-25\n",
      "19:45:23.495449\n",
      "<class 'datetime.date'>\n",
      "<class 'int'>\n"
     ]
    }
   ],
   "source": [
    "print(now.year)\n",
    "print(now.month)\n",
    "print(now.day)\n",
    "print(now.hour)\n",
    "print(now.minute)\n",
    "print(now.second)\n",
    "print(now.microsecond)\n",
    "print(now.date())\n",
    "print(now.time())\n",
    "print(type(now.date()))\n",
    "print(type(now.year))"
   ]
  },
  {
   "cell_type": "code",
   "execution_count": 8,
   "metadata": {},
   "outputs": [
    {
     "name": "stdout",
     "output_type": "stream",
     "text": [
      "1969-07-20 00:00:00\n"
     ]
    }
   ],
   "source": [
    "#Convert Strings to Datetimes\n",
    "#strptime --> String Parse Time\n",
    "\n",
    "moon_landing = '7/20/1969'\n",
    "\n",
    "moon_landing_datetime = datetime.datetime.strptime(moon_landing, \"%m/%d/%Y\")\n",
    "print(moon_landing_datetime)"
   ]
  },
  {
   "cell_type": "code",
   "execution_count": 9,
   "metadata": {},
   "outputs": [
    {
     "name": "stdout",
     "output_type": "stream",
     "text": [
      "<class 'datetime.datetime'>\n"
     ]
    }
   ],
   "source": [
    "print(type(moon_landing_datetime))"
   ]
  },
  {
   "cell_type": "code",
   "execution_count": 10,
   "metadata": {},
   "outputs": [
    {
     "name": "stdout",
     "output_type": "stream",
     "text": [
      "__add__\n",
      "__class__\n",
      "__delattr__\n",
      "__dir__\n",
      "__doc__\n",
      "__eq__\n",
      "__format__\n",
      "__ge__\n",
      "__getattribute__\n",
      "__gt__\n",
      "__hash__\n",
      "__init__\n",
      "__init_subclass__\n",
      "__le__\n",
      "__lt__\n",
      "__ne__\n",
      "__new__\n",
      "__radd__\n",
      "__reduce__\n",
      "__reduce_ex__\n",
      "__repr__\n",
      "__rsub__\n",
      "__setattr__\n",
      "__sizeof__\n",
      "__str__\n",
      "__sub__\n",
      "__subclasshook__\n",
      "astimezone\n",
      "combine\n",
      "ctime\n",
      "date\n",
      "day\n",
      "dst\n",
      "fold\n",
      "fromisoformat\n",
      "fromordinal\n",
      "fromtimestamp\n",
      "hour\n",
      "isocalendar\n",
      "isoformat\n",
      "isoweekday\n",
      "max\n",
      "microsecond\n",
      "min\n",
      "minute\n",
      "month\n",
      "now\n",
      "replace\n",
      "resolution\n",
      "second\n",
      "strftime\n",
      "strptime\n",
      "time\n",
      "timestamp\n",
      "timetuple\n",
      "timetz\n",
      "today\n",
      "toordinal\n",
      "tzinfo\n",
      "tzname\n",
      "utcfromtimestamp\n",
      "utcnow\n",
      "utcoffset\n",
      "utctimetuple\n",
      "weekday\n",
      "year\n"
     ]
    }
   ],
   "source": [
    "#attributes and methods available in now object(datetime object)\n",
    "for thing in dir(now):\n",
    "    print(thing)"
   ]
  }
 ],
 "metadata": {
  "kernelspec": {
   "display_name": "Python 3",
   "language": "python",
   "name": "python3"
  },
  "language_info": {
   "codemirror_mode": {
    "name": "ipython",
    "version": 3
   },
   "file_extension": ".py",
   "mimetype": "text/x-python",
   "name": "python",
   "nbconvert_exporter": "python",
   "pygments_lexer": "ipython3",
   "version": "3.7.0"
  }
 },
 "nbformat": 4,
 "nbformat_minor": 2
}
