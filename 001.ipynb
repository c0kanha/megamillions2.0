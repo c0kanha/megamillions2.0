{
 "cells": [
  {
   "cell_type": "code",
   "execution_count": 2,
   "metadata": {},
   "outputs": [],
   "source": [
    "#importing required modules \n",
    "import numpy as np\n",
    "import pandas as pd\n",
    "import matplotlib.pyplot as plt"
   ]
  },
  {
   "cell_type": "code",
   "execution_count": 1,
   "metadata": {},
   "outputs": [
    {
     "name": "stdout",
     "output_type": "stream",
     "text": [
      "jackpot_name\n",
      "draw_month\n",
      "draw_day\n",
      "draw_year\n",
      "first_num\n",
      "second_num\n",
      "third_num\n",
      "fourth_num\n",
      "fifth_num\n",
      "mega_ball\n",
      "megplier\n"
     ]
    }
   ],
   "source": [
    "tbl_cols = ['jackpot_name', 'draw_month', 'draw_day', 'draw_year', 'first_num', 'second_num', 'third_num', 'fourth_num', 'fifth_num', 'mega_ball', 'megplier' ]\n",
    "for col_name in tbl_cols:\n",
    "    print(col_name)"
   ]
  },
  {
   "cell_type": "code",
   "execution_count": 3,
   "metadata": {},
   "outputs": [],
   "source": [
    "mm_tbl = pd.read_csv('megamillions.csv',  header=None, names=tbl_cols)"
   ]
  },
  {
   "cell_type": "code",
   "execution_count": 4,
   "metadata": {},
   "outputs": [
    {
     "name": "stdout",
     "output_type": "stream",
     "text": [
      "jackpot_name    object\n",
      "draw_month       int64\n",
      "draw_day         int64\n",
      "draw_year        int64\n",
      "first_num        int64\n",
      "second_num       int64\n",
      "third_num        int64\n",
      "fourth_num       int64\n",
      "fifth_num        int64\n",
      "mega_ball        int64\n",
      "megplier         int64\n",
      "dtype: object\n"
     ]
    }
   ],
   "source": [
    "print(mm_tbl.dtypes)"
   ]
  },
  {
   "cell_type": "code",
   "execution_count": null,
   "metadata": {},
   "outputs": [],
   "source": []
  }
 ],
 "metadata": {
  "kernelspec": {
   "display_name": "Python 3",
   "language": "python",
   "name": "python3"
  },
  "language_info": {
   "codemirror_mode": {
    "name": "ipython",
    "version": 3
   },
   "file_extension": ".py",
   "mimetype": "text/x-python",
   "name": "python",
   "nbconvert_exporter": "python",
   "pygments_lexer": "ipython3",
   "version": "3.7.0"
  }
 },
 "nbformat": 4,
 "nbformat_minor": 2
}
